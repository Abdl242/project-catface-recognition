{
 "cells": [
  {
   "cell_type": "code",
   "execution_count": 1,
   "metadata": {},
   "outputs": [],
   "source": [
    "%load_ext autoreload\n",
    "%autoreload 2\n",
    "%matplotlib inline\n",
    "\n",
    "import plotly.express as px\n",
    "import numpy as np\n",
    "import pandas as pd\n",
    "import matplotlib.pyplot as plt\n",
    "import seaborn as sns\n",
    "import os\n",
    "import glob\n",
    "import cv2 as cv\n",
    "from PIL import Image\n"
   ]
  },
  {
   "cell_type": "code",
   "execution_count": 2,
   "metadata": {},
   "outputs": [],
   "source": [
    "import glob\n",
    "import random\n",
    "import os\n",
    "from PIL import Image\n",
    "from PIL import ImageFile\n",
    "ImageFile.LOAD_TRUNCATED_IMAGES = True\n",
    "from tensorflow.keras.preprocessing.image import ImageDataGenerator\n",
    "from tensorflow.keras.models import Sequential\n",
    "from  keras.layers import  Dense, Conv2D, MaxPooling2D, Flatten,Dropout\n",
    "from  tensorflow.keras import Input"
   ]
  },
  {
   "cell_type": "code",
   "execution_count": 3,
   "metadata": {},
   "outputs": [],
   "source": [
    "cats = pd.read_csv('kaggle_dataset/data/cats.csv')"
   ]
  },
  {
   "cell_type": "code",
   "execution_count": 4,
   "metadata": {},
   "outputs": [],
   "source": [
    "breed_list = [x[0] for x in os.walk('kaggle_dataset/images/')]\n",
    "breed_list.remove('kaggle_dataset/images/')"
   ]
  },
  {
   "cell_type": "code",
   "execution_count": 5,
   "metadata": {},
   "outputs": [
    {
     "data": {
      "text/plain": [
       "22"
      ]
     },
     "execution_count": 5,
     "metadata": {},
     "output_type": "execute_result"
    }
   ],
   "source": [
    "len('kaggle_dataset/images/')"
   ]
  },
  {
   "cell_type": "code",
   "execution_count": 6,
   "metadata": {},
   "outputs": [
    {
     "data": {
      "text/plain": [
       "['Chausie',\n",
       " 'Ocicat',\n",
       " 'Himalayan',\n",
       " 'Burmese',\n",
       " 'Tortoiseshell',\n",
       " 'Selkirk Rex',\n",
       " 'Chinchilla',\n",
       " 'Birman',\n",
       " 'American Shorthair',\n",
       " 'Egyptian Mau',\n",
       " 'Siberian',\n",
       " 'LaPerm',\n",
       " 'Balinese',\n",
       " 'Dilute Calico',\n",
       " 'Sphynx - Hairless Cat',\n",
       " 'Turkish Van',\n",
       " 'American Bobtail',\n",
       " 'Manx',\n",
       " 'Extra-Toes Cat - Hemingway Polydactyl',\n",
       " 'Cornish Rex',\n",
       " 'Devon Rex',\n",
       " 'Korat',\n",
       " 'Ragdoll',\n",
       " 'Abyssinian',\n",
       " 'Silver',\n",
       " 'Tiger',\n",
       " 'Siamese',\n",
       " 'Maine Coon',\n",
       " 'York Chocolate',\n",
       " 'Bengal',\n",
       " 'Torbie',\n",
       " 'Scottish Fold',\n",
       " 'Turkish Angora',\n",
       " 'Snowshoe',\n",
       " 'Javanese',\n",
       " 'Tuxedo',\n",
       " 'Nebelung',\n",
       " 'British Shorthair',\n",
       " 'Canadian Hairless',\n",
       " 'Oriental Short Hair',\n",
       " 'Tonkinese',\n",
       " 'Ragamuffin',\n",
       " 'Bombay',\n",
       " 'Havana',\n",
       " 'Singapura',\n",
       " 'Dilute Tortoiseshell',\n",
       " 'Domestic Medium Hair',\n",
       " 'Domestic Short Hair',\n",
       " 'American Curl',\n",
       " 'Somali',\n",
       " 'Applehead Siamese',\n",
       " 'Munchkin',\n",
       " 'Oriental Tabby',\n",
       " 'Burmilla',\n",
       " 'Russian Blue',\n",
       " 'Calico',\n",
       " 'Persian',\n",
       " 'Chartreux',\n",
       " 'Exotic Shorthair',\n",
       " 'Domestic Long Hair',\n",
       " 'American Wirehair',\n",
       " 'Cymric',\n",
       " 'Pixiebob',\n",
       " 'Oriental Long Hair',\n",
       " 'Tabby',\n",
       " 'Japanese Bobtail',\n",
       " 'Norwegian Forest Cat']"
      ]
     },
     "execution_count": 6,
     "metadata": {},
     "output_type": "execute_result"
    }
   ],
   "source": [
    "for i in range(len(breed_list)):\n",
    "    breed_list[i]=breed_list[i][22:]\n",
    "breed_list\n",
    "    "
   ]
  },
  {
   "cell_type": "code",
   "execution_count": 7,
   "metadata": {},
   "outputs": [],
   "source": [
    "breed_dic={}\n",
    "for breed in breed_list:\n",
    "    #print(breed)\n",
    "    breed_dic[breed] = glob.glob(f\"kaggle_dataset/images/{breed}/*.jpg\")"
   ]
  },
  {
   "cell_type": "code",
   "execution_count": 8,
   "metadata": {},
   "outputs": [],
   "source": [
    "df =pd.DataFrame()\n",
    "\n",
    "for breed in breed_list:\n",
    "    df = pd.concat([df,pd.DataFrame(breed_dic[breed])])\n",
    "    \n",
    "df.rename(columns={0:'path'},inplace=True)\n",
    "df=df.sample(20000)"
   ]
  },
  {
   "cell_type": "code",
   "execution_count": 9,
   "metadata": {},
   "outputs": [],
   "source": [
    "df['breed'] = df['path'].apply(lambda x:x.split('/')[2])\n"
   ]
  },
  {
   "cell_type": "code",
   "execution_count": 10,
   "metadata": {},
   "outputs": [],
   "source": [
    "def open_image(pathim):\n",
    "    try:\n",
    "        return np.array(Image.open(pathim).resize((100,100)))\n",
    "    except:\n",
    "        return ''"
   ]
  },
  {
   "cell_type": "code",
   "execution_count": 11,
   "metadata": {},
   "outputs": [],
   "source": [
    "df['img']= df['path'].map(lambda x: open_image(x))"
   ]
  },
  {
   "cell_type": "code",
   "execution_count": 12,
   "metadata": {},
   "outputs": [
    {
     "data": {
      "text/html": [
       "<div>\n",
       "<style scoped>\n",
       "    .dataframe tbody tr th:only-of-type {\n",
       "        vertical-align: middle;\n",
       "    }\n",
       "\n",
       "    .dataframe tbody tr th {\n",
       "        vertical-align: top;\n",
       "    }\n",
       "\n",
       "    .dataframe thead th {\n",
       "        text-align: right;\n",
       "    }\n",
       "</style>\n",
       "<table border=\"1\" class=\"dataframe\">\n",
       "  <thead>\n",
       "    <tr style=\"text-align: right;\">\n",
       "      <th></th>\n",
       "      <th>path</th>\n",
       "      <th>breed</th>\n",
       "      <th>img</th>\n",
       "    </tr>\n",
       "  </thead>\n",
       "  <tbody>\n",
       "    <tr>\n",
       "      <th>32082</th>\n",
       "      <td>kaggle_dataset/images/Domestic Short Hair/4673...</td>\n",
       "      <td>Domestic Short Hair</td>\n",
       "      <td>[[[118, 106, 94], [134, 120, 109], [137, 125, ...</td>\n",
       "    </tr>\n",
       "    <tr>\n",
       "      <th>11864</th>\n",
       "      <td>kaggle_dataset/images/Domestic Short Hair/4673...</td>\n",
       "      <td>Domestic Short Hair</td>\n",
       "      <td>[[[218, 216, 217], [218, 216, 217], [218, 216,...</td>\n",
       "    </tr>\n",
       "    <tr>\n",
       "      <th>1009</th>\n",
       "      <td>kaggle_dataset/images/Tiger/41972970_5289.jpg</td>\n",
       "      <td>Tiger</td>\n",
       "      <td>[[[208, 207, 212], [210, 209, 214], [210, 209,...</td>\n",
       "    </tr>\n",
       "    <tr>\n",
       "      <th>40677</th>\n",
       "      <td>kaggle_dataset/images/Domestic Short Hair/4663...</td>\n",
       "      <td>Domestic Short Hair</td>\n",
       "      <td>[[[86, 36, 13], [78, 27, 5], [79, 27, 9], [80,...</td>\n",
       "    </tr>\n",
       "    <tr>\n",
       "      <th>1375</th>\n",
       "      <td>kaggle_dataset/images/Siamese/45959809_3982.jpg</td>\n",
       "      <td>Siamese</td>\n",
       "      <td>[[[72, 86, 109], [74, 86, 106], [68, 77, 94], ...</td>\n",
       "    </tr>\n",
       "    <tr>\n",
       "      <th>...</th>\n",
       "      <td>...</td>\n",
       "      <td>...</td>\n",
       "      <td>...</td>\n",
       "    </tr>\n",
       "    <tr>\n",
       "      <th>43013</th>\n",
       "      <td>kaggle_dataset/images/Domestic Short Hair/4648...</td>\n",
       "      <td>Domestic Short Hair</td>\n",
       "      <td>[[[213, 237, 241], [213, 235, 239], [213, 232,...</td>\n",
       "    </tr>\n",
       "    <tr>\n",
       "      <th>164</th>\n",
       "      <td>kaggle_dataset/images/Tabby/46559349_17683.jpg</td>\n",
       "      <td>Tabby</td>\n",
       "      <td>[[[212, 213, 208], [208, 209, 204], [201, 202,...</td>\n",
       "    </tr>\n",
       "    <tr>\n",
       "      <th>3147</th>\n",
       "      <td>kaggle_dataset/images/Dilute Tortoiseshell/448...</td>\n",
       "      <td>Dilute Tortoiseshell</td>\n",
       "      <td>[[[49, 60, 74], [47, 57, 69], [38, 46, 56], [3...</td>\n",
       "    </tr>\n",
       "    <tr>\n",
       "      <th>21619</th>\n",
       "      <td>kaggle_dataset/images/Domestic Short Hair/4633...</td>\n",
       "      <td>Domestic Short Hair</td>\n",
       "      <td>[[[254, 253, 250], [252, 254, 251], [254, 253,...</td>\n",
       "    </tr>\n",
       "    <tr>\n",
       "      <th>13184</th>\n",
       "      <td>kaggle_dataset/images/Domestic Short Hair/4643...</td>\n",
       "      <td>Domestic Short Hair</td>\n",
       "      <td>[[[0, 138, 164], [0, 138, 166], [0, 139, 170],...</td>\n",
       "    </tr>\n",
       "  </tbody>\n",
       "</table>\n",
       "<p>20000 rows × 3 columns</p>\n",
       "</div>"
      ],
      "text/plain": [
       "                                                    path  \\\n",
       "32082  kaggle_dataset/images/Domestic Short Hair/4673...   \n",
       "11864  kaggle_dataset/images/Domestic Short Hair/4673...   \n",
       "1009       kaggle_dataset/images/Tiger/41972970_5289.jpg   \n",
       "40677  kaggle_dataset/images/Domestic Short Hair/4663...   \n",
       "1375     kaggle_dataset/images/Siamese/45959809_3982.jpg   \n",
       "...                                                  ...   \n",
       "43013  kaggle_dataset/images/Domestic Short Hair/4648...   \n",
       "164       kaggle_dataset/images/Tabby/46559349_17683.jpg   \n",
       "3147   kaggle_dataset/images/Dilute Tortoiseshell/448...   \n",
       "21619  kaggle_dataset/images/Domestic Short Hair/4633...   \n",
       "13184  kaggle_dataset/images/Domestic Short Hair/4643...   \n",
       "\n",
       "                      breed                                                img  \n",
       "32082   Domestic Short Hair  [[[118, 106, 94], [134, 120, 109], [137, 125, ...  \n",
       "11864   Domestic Short Hair  [[[218, 216, 217], [218, 216, 217], [218, 216,...  \n",
       "1009                  Tiger  [[[208, 207, 212], [210, 209, 214], [210, 209,...  \n",
       "40677   Domestic Short Hair  [[[86, 36, 13], [78, 27, 5], [79, 27, 9], [80,...  \n",
       "1375                Siamese  [[[72, 86, 109], [74, 86, 106], [68, 77, 94], ...  \n",
       "...                     ...                                                ...  \n",
       "43013   Domestic Short Hair  [[[213, 237, 241], [213, 235, 239], [213, 232,...  \n",
       "164                   Tabby  [[[212, 213, 208], [208, 209, 204], [201, 202,...  \n",
       "3147   Dilute Tortoiseshell  [[[49, 60, 74], [47, 57, 69], [38, 46, 56], [3...  \n",
       "21619   Domestic Short Hair  [[[254, 253, 250], [252, 254, 251], [254, 253,...  \n",
       "13184   Domestic Short Hair  [[[0, 138, 164], [0, 138, 166], [0, 139, 170],...  \n",
       "\n",
       "[20000 rows x 3 columns]"
      ]
     },
     "execution_count": 12,
     "metadata": {},
     "output_type": "execute_result"
    }
   ],
   "source": [
    "df"
   ]
  },
  {
   "cell_type": "code",
   "execution_count": 13,
   "metadata": {},
   "outputs": [],
   "source": [
    "df.drop(index=28,inplace=True)"
   ]
  },
  {
   "cell_type": "code",
   "execution_count": 14,
   "metadata": {},
   "outputs": [],
   "source": [
    "df['shape']=df['img'].map(lambda x:x.shape)"
   ]
  },
  {
   "cell_type": "code",
   "execution_count": 15,
   "metadata": {},
   "outputs": [],
   "source": [
    "df=df[df['shape']==(100,100,3)]"
   ]
  },
  {
   "cell_type": "code",
   "execution_count": 16,
   "metadata": {},
   "outputs": [
    {
     "data": {
      "text/plain": [
       "(100, 100, 3)    19989\n",
       "Name: shape, dtype: int64"
      ]
     },
     "execution_count": 16,
     "metadata": {},
     "output_type": "execute_result"
    }
   ],
   "source": [
    "df['shape'].value_counts()"
   ]
  },
  {
   "cell_type": "code",
   "execution_count": 17,
   "metadata": {},
   "outputs": [],
   "source": [
    "X= df.img\n",
    "y=df['breed']"
   ]
  },
  {
   "cell_type": "code",
   "execution_count": 32,
   "metadata": {},
   "outputs": [
    {
     "data": {
      "text/plain": [
       "(13992,)"
      ]
     },
     "execution_count": 32,
     "metadata": {},
     "output_type": "execute_result"
    }
   ],
   "source": [
    "from sklearn.model_selection import train_test_split\n",
    "\n",
    "X_train, X_test, y_train, y_test = train_test_split(X, y, random_state=1,train_size=0.7)\n",
    "np.shape(X_train)"
   ]
  },
  {
   "cell_type": "code",
   "execution_count": 33,
   "metadata": {},
   "outputs": [],
   "source": [
    "from tensorflow.keras.callbacks import EarlyStopping\n",
    "\n",
    "es = EarlyStopping(\n",
    "    monitor='val_loss',\n",
    "    min_delta=0,\n",
    "    patience=4,\n",
    "    verbose=0,\n",
    "    mode='auto',\n",
    "    baseline=None,\n",
    "    restore_best_weights=True)"
   ]
  },
  {
   "cell_type": "code",
   "execution_count": 34,
   "metadata": {},
   "outputs": [
    {
     "data": {
      "text/plain": [
       "['Tiger',\n",
       " 'Turkish Angora',\n",
       " 'Burmese',\n",
       " 'Oriental Long Hair',\n",
       " 'Japanese Bobtail',\n",
       " 'Applehead Siamese',\n",
       " 'American Shorthair',\n",
       " 'Domestic Long Hair',\n",
       " 'American Curl',\n",
       " 'Abyssinian',\n",
       " 'Siberian',\n",
       " 'Domestic Short Hair',\n",
       " 'Chartreux',\n",
       " 'Torbie',\n",
       " 'Manx',\n",
       " 'Pixiebob',\n",
       " 'LaPerm',\n",
       " 'Ragamuffin',\n",
       " 'Dilute Tortoiseshell',\n",
       " 'Russian Blue',\n",
       " 'Korat',\n",
       " 'Oriental Short Hair',\n",
       " 'Tuxedo',\n",
       " 'Ocicat',\n",
       " 'Cymric',\n",
       " 'Domestic Medium Hair',\n",
       " 'Silver',\n",
       " 'American Bobtail',\n",
       " 'Cornish Rex',\n",
       " 'Bombay',\n",
       " 'Singapura',\n",
       " 'Norwegian Forest Cat',\n",
       " 'Snowshoe',\n",
       " 'Oriental Tabby',\n",
       " 'Tonkinese',\n",
       " 'York Chocolate',\n",
       " 'Selkirk Rex',\n",
       " 'Maine Coon',\n",
       " 'Dilute Calico',\n",
       " 'Javanese',\n",
       " 'British Shorthair',\n",
       " 'Tabby',\n",
       " 'Calico',\n",
       " 'Scottish Fold',\n",
       " 'Birman',\n",
       " 'Exotic Shorthair',\n",
       " 'Tortoiseshell',\n",
       " 'Chausie',\n",
       " 'Nebelung',\n",
       " 'Siamese',\n",
       " 'Balinese',\n",
       " 'Turkish Van',\n",
       " 'Himalayan',\n",
       " 'Munchkin',\n",
       " 'Havana',\n",
       " 'Ragdoll',\n",
       " 'Sphynx - Hairless Cat',\n",
       " 'Devon Rex',\n",
       " 'Bengal',\n",
       " 'Somali',\n",
       " 'Egyptian Mau',\n",
       " 'Persian',\n",
       " 'Extra-Toes Cat - Hemingway Polydactyl']"
      ]
     },
     "execution_count": 34,
     "metadata": {},
     "output_type": "execute_result"
    }
   ],
   "source": [
    "labels =list(set(y_train))\n",
    "labels"
   ]
  },
  {
   "cell_type": "code",
   "execution_count": 35,
   "metadata": {},
   "outputs": [],
   "source": [
    "from tensorflow.keras.utils import to_categorical\n",
    "\n",
    "X_train = np.array(list(X_train))\n",
    "\n",
    "uniques, ids = np.unique(y_train, return_inverse=True)\n",
    "y_code = to_categorical(ids, len(uniques))\n",
    "#y_train = to_categorical(np.asarray(y_train.factorize()[0]))\n",
    "\n"
   ]
  },
  {
   "cell_type": "code",
   "execution_count": 36,
   "metadata": {},
   "outputs": [
    {
     "data": {
      "text/plain": [
       "64"
      ]
     },
     "execution_count": 36,
     "metadata": {},
     "output_type": "execute_result"
    }
   ],
   "source": [
    "nb_race = df.breed.nunique()\n",
    "nb_race"
   ]
  },
  {
   "cell_type": "code",
   "execution_count": 39,
   "metadata": {},
   "outputs": [],
   "source": [
    "def model_20():\n",
    "    \n",
    "    # $CHALLENGIFY_BEGIN\n",
    "    model = Sequential()\n",
    "    model.add(Conv2D(16, (3, 3), activation = 'relu', padding = 'same', input_shape=(100,100,3)))\n",
    "    model.add(MaxPooling2D((2, 2)))\n",
    "    model.add(Dropout(0.2))\n",
    "    model.add(Conv2D(32, (3, 3), activation = 'relu', padding = 'same'))\n",
    "    model.add(MaxPooling2D((2, 2)))\n",
    "    model.add(Dropout(0.2))\n",
    "    model.add(Conv2D(64, (2, 2), activation = 'relu', padding = 'same'))\n",
    "    model.add(Dropout(0.3))\n",
    "    model.add(MaxPooling2D((2, 2)))\n",
    "    \n",
    "    model.add(Flatten())\n",
    "    model.add(Dense(100, activation = 'relu'))\n",
    "    model.add(Dropout(0.4))\n",
    "    model.add(Dense(63, activation = 'softmax'))\n",
    "\n",
    "    model.compile(loss='categorical_crossentropy',\n",
    "              optimizer='adam', \n",
    "              metrics=['accuracy'])\n",
    "    \n",
    "    # $CHALLENGIFY_END    \n",
    "    \n",
    "    return model"
   ]
  },
  {
   "cell_type": "code",
   "execution_count": 40,
   "metadata": {},
   "outputs": [
    {
     "name": "stdout",
     "output_type": "stream",
     "text": [
      "Epoch 1/50\n"
     ]
    },
    {
     "name": "stderr",
     "output_type": "stream",
     "text": [
      "2022-11-21 18:31:34.427195: I tensorflow/core/grappler/optimizers/custom_graph_optimizer_registry.cc:114] Plugin optimizer for device_type GPU is enabled.\n"
     ]
    },
    {
     "name": "stdout",
     "output_type": "stream",
     "text": [
      "350/350 [==============================] - ETA: 0s - loss: 2.7932 - accuracy: 0.4149"
     ]
    },
    {
     "name": "stderr",
     "output_type": "stream",
     "text": [
      "2022-11-21 18:31:48.698607: I tensorflow/core/grappler/optimizers/custom_graph_optimizer_registry.cc:114] Plugin optimizer for device_type GPU is enabled.\n"
     ]
    },
    {
     "name": "stdout",
     "output_type": "stream",
     "text": [
      "350/350 [==============================] - 16s 43ms/step - loss: 2.7932 - accuracy: 0.4149 - val_loss: 2.9426 - val_accuracy: 0.4119\n",
      "Epoch 2/50\n",
      "350/350 [==============================] - 14s 41ms/step - loss: 2.6611 - accuracy: 0.4171 - val_loss: 2.8488 - val_accuracy: 0.4119\n",
      "Epoch 3/50\n",
      "350/350 [==============================] - 14s 40ms/step - loss: 2.6169 - accuracy: 0.4172 - val_loss: 2.8783 - val_accuracy: 0.4119\n",
      "Epoch 4/50\n",
      "350/350 [==============================] - 14s 39ms/step - loss: 2.5787 - accuracy: 0.4165 - val_loss: 2.7705 - val_accuracy: 0.4119\n",
      "Epoch 5/50\n",
      "350/350 [==============================] - 14s 40ms/step - loss: 2.5333 - accuracy: 0.4168 - val_loss: 2.7592 - val_accuracy: 0.4123\n",
      "Epoch 6/50\n",
      "350/350 [==============================] - 13s 38ms/step - loss: 2.4745 - accuracy: 0.4178 - val_loss: 2.7073 - val_accuracy: 0.4137\n",
      "Epoch 7/50\n",
      "350/350 [==============================] - 14s 39ms/step - loss: 2.4206 - accuracy: 0.4201 - val_loss: 2.7772 - val_accuracy: 0.4119\n",
      "Epoch 8/50\n",
      "350/350 [==============================] - 14s 40ms/step - loss: 2.3634 - accuracy: 0.4204 - val_loss: 2.6354 - val_accuracy: 0.4141\n",
      "Epoch 9/50\n",
      "350/350 [==============================] - 13s 38ms/step - loss: 2.3036 - accuracy: 0.4238 - val_loss: 2.6424 - val_accuracy: 0.4144\n",
      "Epoch 10/50\n",
      "350/350 [==============================] - 13s 38ms/step - loss: 2.2469 - accuracy: 0.4300 - val_loss: 2.6926 - val_accuracy: 0.4141\n",
      "Epoch 11/50\n",
      "350/350 [==============================] - 13s 38ms/step - loss: 2.1737 - accuracy: 0.4350 - val_loss: 2.6527 - val_accuracy: 0.4105\n",
      "Epoch 12/50\n",
      "350/350 [==============================] - 13s 38ms/step - loss: 2.0968 - accuracy: 0.4463 - val_loss: 2.6483 - val_accuracy: 0.4123\n"
     ]
    },
    {
     "data": {
      "text/plain": [
       "<keras.callbacks.History at 0x317f54cd0>"
      ]
     },
     "execution_count": 40,
     "metadata": {},
     "output_type": "execute_result"
    }
   ],
   "source": [
    "model = model_20()\n",
    "model.fit(np.array(X_train)/255, y_code,epochs=50,callbacks=[es],verbose=1,batch_size=32, validation_split=0.2)"
   ]
  },
  {
   "cell_type": "code",
   "execution_count": 25,
   "metadata": {},
   "outputs": [
    {
     "data": {
      "text/plain": [
       "<matplotlib.image.AxesImage at 0x17eeeb340>"
      ]
     },
     "execution_count": 25,
     "metadata": {},
     "output_type": "execute_result"
    },
    {
     "data": {
      "image/png": "[encoded data removed]",
      "text/plain": [
       "<Figure size 640x480 with 1 Axes>"
      ]
     },
     "metadata": {},
     "output_type": "display_data"
    }
   ],
   "source": [
    "test = (open_image('catim.jpg')/255)\n",
    "plt.imshow(test)"
   ]
  },
  {
   "cell_type": "code",
   "execution_count": 31,
   "metadata": {},
   "outputs": [
    {
     "name": "stdout",
     "output_type": "stream",
     "text": [
      "1/1 [==============================] - 0s 32ms/step\n"
     ]
    },
    {
     "data": {
      "text/plain": [
       "3"
      ]
     },
     "execution_count": 31,
     "metadata": {},
     "output_type": "execute_result"
    }
   ],
   "source": [
    "np.argmax(model.predict(np.expand_dims(test,0)))"
   ]
  },
  {
   "cell_type": "code",
   "execution_count": 43,
   "metadata": {},
   "outputs": [
    {
     "name": "stdout",
     "output_type": "stream",
     "text": [
      "1/1 [==============================] - 0s 51ms/step\n"
     ]
    },
    {
     "data": {
      "text/plain": [
       "'Domestic Short Hair'"
      ]
     },
     "execution_count": 43,
     "metadata": {},
     "output_type": "execute_result"
    }
   ],
   "source": [
    "uniques[np.argmax(model.predict(np.expand_dims(test,0)))]"
   ]
  },
  {
   "cell_type": "code",
   "execution_count": 46,
   "metadata": {},
   "outputs": [
    {
     "data": {
      "text/html": [
       "<div>\n",
       "<style scoped>\n",
       "    .dataframe tbody tr th:only-of-type {\n",
       "        vertical-align: middle;\n",
       "    }\n",
       "\n",
       "    .dataframe tbody tr th {\n",
       "        vertical-align: top;\n",
       "    }\n",
       "\n",
       "    .dataframe thead th {\n",
       "        text-align: right;\n",
       "    }\n",
       "</style>\n",
       "<table border=\"1\" class=\"dataframe\">\n",
       "  <thead>\n",
       "    <tr style=\"text-align: right;\">\n",
       "      <th></th>\n",
       "      <th>0</th>\n",
       "    </tr>\n",
       "  </thead>\n",
       "  <tbody>\n",
       "    <tr>\n",
       "      <th>0</th>\n",
       "      <td>Abyssinian</td>\n",
       "    </tr>\n",
       "    <tr>\n",
       "      <th>1</th>\n",
       "      <td>American Bobtail</td>\n",
       "    </tr>\n",
       "    <tr>\n",
       "      <th>2</th>\n",
       "      <td>American Curl</td>\n",
       "    </tr>\n",
       "    <tr>\n",
       "      <th>3</th>\n",
       "      <td>American Shorthair</td>\n",
       "    </tr>\n",
       "    <tr>\n",
       "      <th>4</th>\n",
       "      <td>Applehead Siamese</td>\n",
       "    </tr>\n",
       "    <tr>\n",
       "      <th>...</th>\n",
       "      <td>...</td>\n",
       "    </tr>\n",
       "    <tr>\n",
       "      <th>58</th>\n",
       "      <td>Tortoiseshell</td>\n",
       "    </tr>\n",
       "    <tr>\n",
       "      <th>59</th>\n",
       "      <td>Turkish Angora</td>\n",
       "    </tr>\n",
       "    <tr>\n",
       "      <th>60</th>\n",
       "      <td>Turkish Van</td>\n",
       "    </tr>\n",
       "    <tr>\n",
       "      <th>61</th>\n",
       "      <td>Tuxedo</td>\n",
       "    </tr>\n",
       "    <tr>\n",
       "      <th>62</th>\n",
       "      <td>York Chocolate</td>\n",
       "    </tr>\n",
       "  </tbody>\n",
       "</table>\n",
       "<p>63 rows × 1 columns</p>\n",
       "</div>"
      ],
      "text/plain": [
       "                     0\n",
       "0           Abyssinian\n",
       "1     American Bobtail\n",
       "2        American Curl\n",
       "3   American Shorthair\n",
       "4    Applehead Siamese\n",
       "..                 ...\n",
       "58       Tortoiseshell\n",
       "59      Turkish Angora\n",
       "60         Turkish Van\n",
       "61              Tuxedo\n",
       "62      York Chocolate\n",
       "\n",
       "[63 rows x 1 columns]"
      ]
     },
     "execution_count": 46,
     "metadata": {},
     "output_type": "execute_result"
    }
   ],
   "source": [
    "df_un=pd.DataFrame(list(uniques))\n",
    "df_un"
   ]
  },
  {
   "cell_type": "code",
   "execution_count": 47,
   "metadata": {},
   "outputs": [],
   "source": [
    "df_un.to_csv('breed.csv')"
   ]
  },
  {
   "cell_type": "code",
   "execution_count": 48,
   "metadata": {},
   "outputs": [],
   "source": [
    "model.save_weights('model/')"
   ]
  },
  {
   "cell_type": "code",
   "execution_count": 51,
   "metadata": {},
   "outputs": [
    {
     "data": {
      "text/plain": [
       "['Abyssinian',\n",
       " 'American Bobtail',\n",
       " 'American Curl',\n",
       " 'American Shorthair',\n",
       " 'Applehead Siamese',\n",
       " 'Balinese',\n",
       " 'Bengal',\n",
       " 'Birman',\n",
       " 'Bombay',\n",
       " 'British Shorthair',\n",
       " 'Burmese',\n",
       " 'Calico',\n",
       " 'Chartreux',\n",
       " 'Chausie',\n",
       " 'Cornish Rex',\n",
       " 'Cymric',\n",
       " 'Devon Rex',\n",
       " 'Dilute Calico',\n",
       " 'Dilute Tortoiseshell',\n",
       " 'Domestic Long Hair',\n",
       " 'Domestic Medium Hair',\n",
       " 'Domestic Short Hair',\n",
       " 'Egyptian Mau',\n",
       " 'Exotic Shorthair',\n",
       " 'Extra-Toes Cat - Hemingway Polydactyl',\n",
       " 'Havana',\n",
       " 'Himalayan',\n",
       " 'Japanese Bobtail',\n",
       " 'Javanese',\n",
       " 'Korat',\n",
       " 'LaPerm',\n",
       " 'Maine Coon',\n",
       " 'Manx',\n",
       " 'Munchkin',\n",
       " 'Nebelung',\n",
       " 'Norwegian Forest Cat',\n",
       " 'Ocicat',\n",
       " 'Oriental Long Hair',\n",
       " 'Oriental Short Hair',\n",
       " 'Oriental Tabby',\n",
       " 'Persian',\n",
       " 'Pixiebob',\n",
       " 'Ragamuffin',\n",
       " 'Ragdoll',\n",
       " 'Russian Blue',\n",
       " 'Scottish Fold',\n",
       " 'Selkirk Rex',\n",
       " 'Siamese',\n",
       " 'Siberian',\n",
       " 'Silver',\n",
       " 'Singapura',\n",
       " 'Snowshoe',\n",
       " 'Somali',\n",
       " 'Sphynx - Hairless Cat',\n",
       " 'Tabby',\n",
       " 'Tiger',\n",
       " 'Tonkinese',\n",
       " 'Torbie',\n",
       " 'Tortoiseshell',\n",
       " 'Turkish Angora',\n",
       " 'Turkish Van',\n",
       " 'Tuxedo',\n",
       " 'York Chocolate']"
      ]
     },
     "execution_count": 51,
     "metadata": {},
     "output_type": "execute_result"
    }
   ],
   "source": [
    "list(df_un[0])"
   ]
  },
  {
   "cell_type": "code",
   "execution_count": 55,
   "metadata": {},
   "outputs": [
    {
     "data": {
      "text/plain": [
       "0             Abyssinian\n",
       "1       American Bobtail\n",
       "2          American Curl\n",
       "3     American Shorthair\n",
       "4      Applehead Siamese\n",
       "             ...        \n",
       "58         Tortoiseshell\n",
       "59        Turkish Angora\n",
       "60           Turkish Van\n",
       "61                Tuxedo\n",
       "62        York Chocolate\n",
       "Name: 0, Length: 63, dtype: object"
      ]
     },
     "execution_count": 55,
     "metadata": {},
     "output_type": "execute_result"
    }
   ],
   "source": [
    "pd.read_csv('breed.csv')['0']"
   ]
  },
  {
   "cell_type": "code",
   "execution_count": null,
   "metadata": {},
   "outputs": [],
   "source": []
  },
  {
   "cell_type": "code",
   "execution_count": null,
   "metadata": {},
   "outputs": [],
   "source": []
  },
  {
   "cell_type": "code",
   "execution_count": null,
   "metadata": {},
   "outputs": [],
   "source": []
  },
  {
   "cell_type": "code",
   "execution_count": 30,
   "metadata": {},
   "outputs": [],
   "source": [
    "import requests\n",
    "from PIL import Image\n",
    "import numpy as np\n",
    "from catface.ml.model_creation import open_image,model_20\n",
    "from catface.utils.rescale import rescaleframe,scale_model\n"
   ]
  },
  {
   "cell_type": "code",
   "execution_count": 17,
   "metadata": {},
   "outputs": [],
   "source": [
    "img =open_image('data/images/cat.jpg')"
   ]
  },
  {
   "cell_type": "code",
   "execution_count": 22,
   "metadata": {},
   "outputs": [
    {
     "name": "stdout",
     "output_type": "stream",
     "text": [
      "Metal device set to: Apple M1\n",
      "\n",
      "systemMemory: 8.00 GB\n",
      "maxCacheSize: 2.67 GB\n",
      "\n"
     ]
    },
    {
     "name": "stderr",
     "output_type": "stream",
     "text": [
      "2023-03-06 15:34:35.389596: I tensorflow/core/common_runtime/pluggable_device/pluggable_device_factory.cc:306] Could not identify NUMA node of platform GPU ID 0, defaulting to 0. Your kernel may not have been built with NUMA support.\n",
      "2023-03-06 15:34:35.390392: I tensorflow/core/common_runtime/pluggable_device/pluggable_device_factory.cc:272] Created TensorFlow device (/job:localhost/replica:0/task:0/device:GPU:0 with 0 MB memory) -> physical PluggableDevice (device: 0, name: METAL, pci bus id: <undefined>)\n"
     ]
    }
   ],
   "source": [
    "model=model_20()"
   ]
  },
  {
   "cell_type": "code",
   "execution_count": 28,
   "metadata": {},
   "outputs": [
    {
     "data": {
      "text/plain": [
       "<tensorflow.python.checkpoint.checkpoint.CheckpointLoadStatus at 0x28b7627a0>"
      ]
     },
     "execution_count": 28,
     "metadata": {},
     "output_type": "execute_result"
    }
   ],
   "source": [
    "model.load_weights('model/')"
   ]
  },
  {
   "cell_type": "code",
   "execution_count": 56,
   "metadata": {},
   "outputs": [],
   "source": [
    "import json"
   ]
  },
  {
   "cell_type": "code",
   "execution_count": 72,
   "metadata": {},
   "outputs": [
    {
     "ename": "ValueError",
     "evalue": "The truth value of an array with more than one element is ambiguous. Use a.any() or a.all()",
     "output_type": "error",
     "traceback": [
      "\u001b[0;31m---------------------------------------------------------------------------\u001b[0m",
      "\u001b[0;31mValueError\u001b[0m                                Traceback (most recent call last)",
      "Cell \u001b[0;32mIn [72], line 1\u001b[0m\n\u001b[0;32m----> 1\u001b[0m requests\u001b[39m.\u001b[39;49mpost(\u001b[39m'\u001b[39;49m\u001b[39mhttp://0.0.0.0:8000/predict?\u001b[39;49m\u001b[39m'\u001b[39;49m,img)\n",
      "File \u001b[0;32m~/.pyenv/versions/3.10.6/envs/lewagon/lib/python3.10/site-packages/requests/api.py:115\u001b[0m, in \u001b[0;36mpost\u001b[0;34m(url, data, json, **kwargs)\u001b[0m\n\u001b[1;32m    103\u001b[0m \u001b[39mdef\u001b[39;00m \u001b[39mpost\u001b[39m(url, data\u001b[39m=\u001b[39m\u001b[39mNone\u001b[39;00m, json\u001b[39m=\u001b[39m\u001b[39mNone\u001b[39;00m, \u001b[39m*\u001b[39m\u001b[39m*\u001b[39mkwargs):\n\u001b[1;32m    104\u001b[0m     \u001b[39mr\u001b[39m\u001b[39m\"\"\"Sends a POST request.\u001b[39;00m\n\u001b[1;32m    105\u001b[0m \n\u001b[1;32m    106\u001b[0m \u001b[39m    :param url: URL for the new :class:`Request` object.\u001b[39;00m\n\u001b[0;32m   (...)\u001b[0m\n\u001b[1;32m    112\u001b[0m \u001b[39m    :rtype: requests.Response\u001b[39;00m\n\u001b[1;32m    113\u001b[0m \u001b[39m    \"\"\"\u001b[39;00m\n\u001b[0;32m--> 115\u001b[0m     \u001b[39mreturn\u001b[39;00m request(\u001b[39m\"\u001b[39;49m\u001b[39mpost\u001b[39;49m\u001b[39m\"\u001b[39;49m, url, data\u001b[39m=\u001b[39;49mdata, json\u001b[39m=\u001b[39;49mjson, \u001b[39m*\u001b[39;49m\u001b[39m*\u001b[39;49mkwargs)\n",
      "File \u001b[0;32m~/.pyenv/versions/3.10.6/envs/lewagon/lib/python3.10/site-packages/requests/api.py:59\u001b[0m, in \u001b[0;36mrequest\u001b[0;34m(method, url, **kwargs)\u001b[0m\n\u001b[1;32m     55\u001b[0m \u001b[39m# By using the 'with' statement we are sure the session is closed, thus we\u001b[39;00m\n\u001b[1;32m     56\u001b[0m \u001b[39m# avoid leaving sockets open which can trigger a ResourceWarning in some\u001b[39;00m\n\u001b[1;32m     57\u001b[0m \u001b[39m# cases, and look like a memory leak in others.\u001b[39;00m\n\u001b[1;32m     58\u001b[0m \u001b[39mwith\u001b[39;00m sessions\u001b[39m.\u001b[39mSession() \u001b[39mas\u001b[39;00m session:\n\u001b[0;32m---> 59\u001b[0m     \u001b[39mreturn\u001b[39;00m session\u001b[39m.\u001b[39;49mrequest(method\u001b[39m=\u001b[39;49mmethod, url\u001b[39m=\u001b[39;49murl, \u001b[39m*\u001b[39;49m\u001b[39m*\u001b[39;49mkwargs)\n",
      "File \u001b[0;32m~/.pyenv/versions/3.10.6/envs/lewagon/lib/python3.10/site-packages/requests/sessions.py:566\u001b[0m, in \u001b[0;36mSession.request\u001b[0;34m(self, method, url, params, data, headers, cookies, files, auth, timeout, allow_redirects, proxies, hooks, stream, verify, cert, json)\u001b[0m\n\u001b[1;32m    519\u001b[0m \u001b[39m\"\"\"Constructs a :class:`Request <Request>`, prepares it and sends it.\u001b[39;00m\n\u001b[1;32m    520\u001b[0m \u001b[39mReturns :class:`Response <Response>` object.\u001b[39;00m\n\u001b[1;32m    521\u001b[0m \n\u001b[0;32m   (...)\u001b[0m\n\u001b[1;32m    558\u001b[0m \u001b[39m:rtype: requests.Response\u001b[39;00m\n\u001b[1;32m    559\u001b[0m \u001b[39m\"\"\"\u001b[39;00m\n\u001b[1;32m    560\u001b[0m \u001b[39m# Create the Request.\u001b[39;00m\n\u001b[1;32m    561\u001b[0m req \u001b[39m=\u001b[39m Request(\n\u001b[1;32m    562\u001b[0m     method\u001b[39m=\u001b[39mmethod\u001b[39m.\u001b[39mupper(),\n\u001b[1;32m    563\u001b[0m     url\u001b[39m=\u001b[39murl,\n\u001b[1;32m    564\u001b[0m     headers\u001b[39m=\u001b[39mheaders,\n\u001b[1;32m    565\u001b[0m     files\u001b[39m=\u001b[39mfiles,\n\u001b[0;32m--> 566\u001b[0m     data\u001b[39m=\u001b[39mdata \u001b[39mor\u001b[39;00m {},\n\u001b[1;32m    567\u001b[0m     json\u001b[39m=\u001b[39mjson,\n\u001b[1;32m    568\u001b[0m     params\u001b[39m=\u001b[39mparams \u001b[39mor\u001b[39;00m {},\n\u001b[1;32m    569\u001b[0m     auth\u001b[39m=\u001b[39mauth,\n\u001b[1;32m    570\u001b[0m     cookies\u001b[39m=\u001b[39mcookies,\n\u001b[1;32m    571\u001b[0m     hooks\u001b[39m=\u001b[39mhooks,\n\u001b[1;32m    572\u001b[0m )\n\u001b[1;32m    573\u001b[0m prep \u001b[39m=\u001b[39m \u001b[39mself\u001b[39m\u001b[39m.\u001b[39mprepare_request(req)\n\u001b[1;32m    575\u001b[0m proxies \u001b[39m=\u001b[39m proxies \u001b[39mor\u001b[39;00m {}\n",
      "\u001b[0;31mValueError\u001b[0m: The truth value of an array with more than one element is ambiguous. Use a.any() or a.all()"
     ]
    }
   ],
   "source": [
    "requests.post('http://0.0.0.0:8000/predict?',data=img)"
   ]
  },
  {
   "cell_type": "code",
   "execution_count": 51,
   "metadata": {},
   "outputs": [
    {
     "name": "stdout",
     "output_type": "stream",
     "text": [
      "1/1 [==============================] - 0s 93ms/step\n"
     ]
    },
    {
     "data": {
      "text/plain": [
       "array([[0.000000e+00, 0.000000e+00, 0.000000e+00, 0.000000e+00,\n",
       "        0.000000e+00, 0.000000e+00, 0.000000e+00, 0.000000e+00,\n",
       "        0.000000e+00, 0.000000e+00, 0.000000e+00, 0.000000e+00,\n",
       "        0.000000e+00, 0.000000e+00, 0.000000e+00, 0.000000e+00,\n",
       "        0.000000e+00, 0.000000e+00, 0.000000e+00, 0.000000e+00,\n",
       "        0.000000e+00, 1.000000e+00, 0.000000e+00, 0.000000e+00,\n",
       "        0.000000e+00, 0.000000e+00, 0.000000e+00, 0.000000e+00,\n",
       "        0.000000e+00, 0.000000e+00, 0.000000e+00, 0.000000e+00,\n",
       "        0.000000e+00, 0.000000e+00, 0.000000e+00, 0.000000e+00,\n",
       "        0.000000e+00, 0.000000e+00, 0.000000e+00, 0.000000e+00,\n",
       "        0.000000e+00, 0.000000e+00, 0.000000e+00, 0.000000e+00,\n",
       "        0.000000e+00, 0.000000e+00, 0.000000e+00, 6.350592e-30,\n",
       "        0.000000e+00, 0.000000e+00, 0.000000e+00, 0.000000e+00,\n",
       "        0.000000e+00, 0.000000e+00, 0.000000e+00, 0.000000e+00,\n",
       "        0.000000e+00, 0.000000e+00, 0.000000e+00, 0.000000e+00,\n",
       "        0.000000e+00, 0.000000e+00, 0.000000e+00]], dtype=float32)"
      ]
     },
     "execution_count": 51,
     "metadata": {},
     "output_type": "execute_result"
    }
   ],
   "source": [
    "model.predict(np.expand_dims(scale_model(rescaleframe(img)),0))"
   ]
  },
  {
   "cell_type": "code",
   "execution_count": null,
   "metadata": {},
   "outputs": [],
   "source": []
  }
 ],
 "metadata": {
  "kernelspec": {
   "display_name": "Python 3.10.6 64-bit ('lewagon')",
   "language": "python",
   "name": "python3"
  },
  "language_info": {
   "codemirror_mode": {
    "name": "ipython",
    "version": 3
   },
   "file_extension": ".py",
   "mimetype": "text/x-python",
   "name": "python",
   "nbconvert_exporter": "python",
   "pygments_lexer": "ipython3",
   "version": "3.10.6"
  },
  "orig_nbformat": 4,
  "vscode": {
   "interpreter": {
    "hash": "715bbb357a0d9ca6e5eb545f84f3c3e51d048468698ed86d54a0571406e75718"
   }
  }
 },
 "nbformat": 4,
 "nbformat_minor": 2
}
